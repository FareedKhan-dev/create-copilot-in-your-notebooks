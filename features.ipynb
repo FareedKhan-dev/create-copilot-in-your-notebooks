{
 "cells": [
  {
   "cell_type": "markdown",
   "metadata": {},
   "source": [
    "Installing library"
   ]
  },
  {
   "cell_type": "code",
   "execution_count": null,
   "metadata": {},
   "outputs": [],
   "source": [
    "# For installing necessary libraries\n",
    "!pip install -q -U google-generativeai grpcio grpcio-tools"
   ]
  },
  {
   "cell_type": "markdown",
   "metadata": {},
   "source": [
    "Importing Gemini"
   ]
  },
  {
   "cell_type": "code",
   "execution_count": 1,
   "metadata": {},
   "outputs": [],
   "source": [
    "# Import the Google Generative AI library\n",
    "import google.generativeai as genai\n",
    "\n",
    "# Initialize the GenerativeModel with 'gemini-pro' for chat and code\n",
    "text_model = genai.GenerativeModel('gemini-pro')\n",
    "\n",
    "# Initialize the GenerativeModel with 'gemini-pro-vision' for graphs\n",
    "image_model = genai.GenerativeModel('gemini-pro-vision')\n",
    "\n",
    "# Configure the library with your API key\n",
    "genai.configure(api_key=\"Your-API-Key-Here\")"
   ]
  },
  {
   "cell_type": "markdown",
   "metadata": {},
   "source": [
    "Importing Copilot libraries"
   ]
  },
  {
   "cell_type": "code",
   "execution_count": 2,
   "metadata": {},
   "outputs": [],
   "source": [
    "# Regular expression for pattern matching\n",
    "import re\n",
    "\n",
    "# IPython for working with IPython environment\n",
    "import IPython\n",
    "\n",
    "# OS for interacting with the operating system\n",
    "import os\n",
    "\n",
    "# JSON for working with JSON data\n",
    "import json\n",
    "\n",
    "# Base64 for encoding and decoding base64 data\n",
    "import base64\n",
    "\n",
    "# Image class from IPython.display for displaying images\n",
    "from IPython.display import Image\n",
    "\n",
    "# register_line_magic for registering custom magic commands\n",
    "from IPython.core.magic import register_line_magic"
   ]
  },
  {
   "cell_type": "markdown",
   "metadata": {},
   "source": [
    "Chat feature"
   ]
  },
  {
   "cell_type": "code",
   "execution_count": 3,
   "metadata": {},
   "outputs": [],
   "source": [
    "# Registering a Jupyter Notebook magic command named 'chat'\n",
    "@register_line_magic\n",
    "def chat(contents):\n",
    "    # Generating a response using the 'generate_content' method of the 'text_model' object\n",
    "    # The method takes a formatted string containing the provided 'contents'\n",
    "    response = text_model.generate_content(f'''\n",
    "                                    Answer the question in a short quick readable paragraph, dont provide answer in any format or code\n",
    "                                    {contents}\n",
    "                                    ''').text\n",
    "\n",
    "    # Printing the generated response to the output\n",
    "    print(response)"
   ]
  },
  {
   "cell_type": "code",
   "execution_count": 4,
   "metadata": {},
   "outputs": [
    {
     "name": "stdout",
     "output_type": "stream",
     "text": [
      "Some useful libraries for coding neural networks in Python include TensorFlow, PyTorch, Keras, and Theano. TensorFlow is a popular library developed by Google, known for its flexibility and scalability. PyTorch is another widely used library, favored for its dynamic computation graphs. Keras is a high-level API that simplifies the development of neural networks by providing a user-friendly interface. Theano is a library that supports efficient numerical computation, often used for research purposes.\n"
     ]
    }
   ],
   "source": [
    "%chat What are some useful libraries for coding neural networks in Python"
   ]
  },
  {
   "cell_type": "markdown",
   "metadata": {},
   "source": [
    "Chat with code feature"
   ]
  },
  {
   "cell_type": "code",
   "execution_count": 5,
   "metadata": {},
   "outputs": [],
   "source": [
    "# Define a function named 'chatn' that takes 'contents' as a parameter\n",
    "@register_line_magic\n",
    "def chatn(contents):\n",
    "    try:\n",
    "        # Use regular expression to find all occurrences of '--in' followed by digits in 'contents'\n",
    "        numbers = [int(match.group().replace('--in', '')) for match in re.finditer(r'--in\\d+', contents)]\n",
    "\n",
    "        # Remove the found pattern '--in\\d+' from 'contents'\n",
    "        contents_filter = re.sub(r'--in\\d+', '', contents)\n",
    "\n",
    "        # Check if there are any references (numbers) found\n",
    "        if numbers:\n",
    "            # Retrieve the current cell contents for all references using the IPython 'In' variable\n",
    "            current_cell_contents = [In[number] for number in numbers]\n",
    "\n",
    "            # Combine the contents into a single string with line breaks\n",
    "            combined_content = '\\n'.join(current_cell_contents)\n",
    "\n",
    "            # Execute the text_model to generate response\n",
    "            response = text_model.generate_content(f'''\n",
    "                                            {combined_content}\n",
    "                                            Answer the question in a short readable paragraph, don't provide the answer in any format or code\n",
    "                                            {contents_filter}\n",
    "                                            ''').text\n",
    "\n",
    "            # Print the generated response\n",
    "            print(response)\n",
    "\n",
    "        else:\n",
    "            # Print an error message if no references are found\n",
    "            print('Please provide a correct codeblock reference.')\n",
    "\n",
    "    except Exception as e:\n",
    "        # Print an error message if an exception occurs\n",
    "        print('Please provide a correct codeblock reference.')"
   ]
  },
  {
   "cell_type": "code",
   "execution_count": 6,
   "metadata": {},
   "outputs": [],
   "source": [
    "x = [1, 2, 3, 4, 5]\n",
    "y = [2, 4, 6, 8, 10]"
   ]
  },
  {
   "cell_type": "code",
   "execution_count": 7,
   "metadata": {},
   "outputs": [
    {
     "data": {
      "text/plain": [
       "[1, 2, 3, 4, 5, 2, 4, 6, 8, 10]"
      ]
     },
     "execution_count": 7,
     "metadata": {},
     "output_type": "execute_result"
    }
   ],
   "source": [
    "x+y"
   ]
  },
  {
   "cell_type": "code",
   "execution_count": 8,
   "metadata": {},
   "outputs": [
    {
     "name": "stdout",
     "output_type": "stream",
     "text": [
      "The '+' operator is used for concatenation of lists in Python, not element-wise addition. To perform element-wise addition, you can use the 'zip()' function to iterate over the lists simultaneously and add the corresponding elements together. The resulting list will contain the element-wise sums of the two input lists.\n"
     ]
    }
   ],
   "source": [
    "# Running Chat with Code Feature\n",
    "%chatn --in6 --in7 I sum element wise but it is not working"
   ]
  },
  {
   "cell_type": "markdown",
   "metadata": {},
   "source": [
    "Generate code feature"
   ]
  },
  {
   "cell_type": "code",
   "execution_count": 9,
   "metadata": {},
   "outputs": [],
   "source": [
    "# Register a custom line magic command\n",
    "@register_line_magic\n",
    "def code(contents):\n",
    "\n",
    "    # Get the IPython shell instance\n",
    "    from IPython.core.getipython import get_ipython\n",
    "    shell = get_ipython()\n",
    "\n",
    "    # Generate code content using a text model\n",
    "    response = text_model.generate_content(f'''\n",
    "                                    write a python code that and dont answer anything else\n",
    "                                    {contents}\n",
    "                                    ''').text\n",
    "\n",
    "    # Remove ``` and python from the response\n",
    "    response = response.replace('```', '')\n",
    "\n",
    "    # Clean up the response\n",
    "    response = response.replace('python', '').strip('\\n').rstrip('\\n').replace('```python', '')\n",
    "\n",
    "    # Prepare payload for setting the next input\n",
    "    payload = dict(\n",
    "        source='set_next_input',\n",
    "        text=response,\n",
    "        replace=False,\n",
    "    )\n",
    "\n",
    "    # Write the payload to the IPython shell\n",
    "    shell.payload_manager.write_payload(payload, single=False)"
   ]
  },
  {
   "cell_type": "code",
   "execution_count": 10,
   "metadata": {},
   "outputs": [],
   "source": [
    "# Running Generate Code Feature\n",
    "%code load my data.csv and take random sample of 100 rows"
   ]
  },
  {
   "cell_type": "code",
   "execution_count": null,
   "metadata": {},
   "outputs": [],
   "source": [
    "import pandas as pd\n",
    "\n",
    "# Load the data.csv file\n",
    "data = pd.read_csv('data.csv')\n",
    "\n",
    "# Take a random sample of 100 rows\n",
    "sample = data.sample(n=100)\n",
    "\n",
    "# Print the sample\n",
    "print(sample)"
   ]
  },
  {
   "cell_type": "markdown",
   "metadata": {},
   "source": [
    "Relational Code Feature"
   ]
  },
  {
   "cell_type": "code",
   "execution_count": 11,
   "metadata": {},
   "outputs": [],
   "source": [
    "# Define a function named 'coden' that takes 'contents' as a parameter\n",
    "@register_line_magic\n",
    "def coden(contents):\n",
    "    try:\n",
    "\n",
    "        # Get the IPython shell instance\n",
    "        from IPython.core.getipython import get_ipython\n",
    "        shell = get_ipython()\n",
    "\n",
    "        # Use regular expression to find all occurrences of '--in' followed by digits in 'contents'\n",
    "        numbers = [int(match.group().replace('--in', '')) for match in re.finditer(r'--in\\d+', contents)]\n",
    "\n",
    "        # Remove the found pattern '--in\\d+' from 'contents'\n",
    "        contents_filter = re.sub(r'--in\\d+', '', contents)\n",
    "\n",
    "        # Check if there are any references (numbers) found\n",
    "        if numbers:\n",
    "            # Retrieve the current cell contents for all references using the IPython 'In' variable\n",
    "            current_cell_contents = [In[number] for number in numbers]\n",
    "\n",
    "            # Combine the contents into a single string with line breaks\n",
    "            combined_content = '\\n'.join(current_cell_contents)\n",
    "\n",
    "            # Execute the text_model to generate code\n",
    "            response = text_model.generate_content(f'''{combined_content}\n",
    "                                                  {contents_filter}\n",
    "                                                  please write Python code and don't answer anything else, dont provide output of the code\n",
    "                                                  ''').text\n",
    "            # Remove ``` and python from the response\n",
    "            response = response.replace('```', '')\n",
    "\n",
    "            # Clean up the response\n",
    "            response = response.replace('python', '').strip('\\n').rstrip('\\n').replace('```python', '')\n",
    "\n",
    "            # Prepare payload for setting the next input\n",
    "            payload = dict(\n",
    "                source='set_next_input',\n",
    "                text=response,\n",
    "                replace=False,\n",
    "            )\n",
    "\n",
    "            # Write the payload to the IPython shell\n",
    "            shell.payload_manager.write_payload(payload, single=False)\n",
    "\n",
    "        else:\n",
    "            # Print an error message if no references are found\n",
    "            print('Please provide a correct codeblock reference.')\n",
    "\n",
    "    except Exception as e:\n",
    "        # Print an error message if an exception occurs\n",
    "        print('Please provide a correct codeblock reference.')"
   ]
  },
  {
   "cell_type": "code",
   "execution_count": 12,
   "metadata": {},
   "outputs": [],
   "source": [
    "x = [1, 2, 3, 4, 5]"
   ]
  },
  {
   "cell_type": "code",
   "execution_count": 13,
   "metadata": {},
   "outputs": [],
   "source": [
    "y = 3"
   ]
  },
  {
   "cell_type": "code",
   "execution_count": 14,
   "metadata": {},
   "outputs": [],
   "source": [
    "# Running Relational Code Feature\n",
    "%coden --in12 --in13 multiply y with each x item"
   ]
  },
  {
   "cell_type": "code",
   "execution_count": null,
   "metadata": {},
   "outputs": [],
   "source": [
    "result = [i * y for i in x]"
   ]
  },
  {
   "cell_type": "markdown",
   "metadata": {},
   "source": [
    "Chat with graph Feature"
   ]
  },
  {
   "cell_type": "code",
   "execution_count": 15,
   "metadata": {},
   "outputs": [],
   "source": [
    "# Try to get the current notebook filename using IPython\n",
    "try:\n",
    "    file_name = IPython.extract_module_locals()[1]['__vsc_ipynb_file__']\n",
    "\n",
    "    # Extract the base name (file name) from the file path\n",
    "    file_name = os.path.basename(file_name)\n",
    "\n",
    "except:\n",
    "    # If an exception occurs, print a message indicating no file\n",
    "    file_name = None\n",
    "\n",
    "# Register a custom magic command for the Jupyter notebook\n",
    "@register_line_magic\n",
    "def graph(contents):\n",
    "    # Search for the pattern --in<number>\n",
    "    pattern = re.compile(r'--in\\d+')\n",
    "\n",
    "    # Find the first occurrence of the pattern in the contents\n",
    "    match = pattern.search(contents)\n",
    "\n",
    "    # Remove the pattern from the contents\n",
    "    contents_filter = pattern.sub('', contents)\n",
    "\n",
    "    # Define a new pattern for --filename=<word>\n",
    "    pattern_f = re.compile(r'--filename=\\w+')\n",
    "\n",
    "    # Find the first occurrence of the new pattern in the contents\n",
    "    match_f = pattern_f.search(contents)\n",
    "\n",
    "    # Remove the new pattern from the filtered contents\n",
    "    contents_filter = pattern_f.sub('', contents_filter)\n",
    "\n",
    "    # If the --in<number> pattern is found\n",
    "    if match:\n",
    "        # Get the global variable file_name\n",
    "        global file_name\n",
    "\n",
    "        # Check if file_name is available from the IPython magic command\n",
    "        if file_name:\n",
    "            notebookName = file_name\n",
    "            with open(notebookName, \"r\") as f:\n",
    "                # Load the notebook JSON data\n",
    "                notebook_json = json.load(f)\n",
    "        elif match_f:\n",
    "            # Extract the filename from the --filename=<word> pattern\n",
    "            match_c = match_f.group().replace('--filename=', '')\n",
    "            notebookName = match_c + '.ipynb'\n",
    "            with open(notebookName, \"r\") as f:\n",
    "                # Load the notebook JSON data\n",
    "                notebook_json = json.load(f)\n",
    "        else:\n",
    "            # If neither file_name nor --filename=<word> is provided, print an error message\n",
    "            return 'Please provide a correct file path using --filename=<filename>.ipynb, e.g., --filename=mycode.ipynb'\n",
    "\n",
    "        # Extract the number from the --in<number> pattern\n",
    "        number = int(match.group().replace('--in', ''))\n",
    "\n",
    "        # Find the cell with the specified execution_count in the notebook JSON data\n",
    "        element = next(cell for cell in notebook_json['cells'] if 'execution_count' in cell and cell['execution_count'] == number)\n",
    "\n",
    "        # Extract image data from the cell's output\n",
    "        image_data = element['outputs'][0]['data']['image/png']\n",
    "\n",
    "        # Decode base64 image data\n",
    "        image_base64 = base64.b64decode(image_data)\n",
    "\n",
    "        # Save the image in the local directory as img_code.jpg\n",
    "        with open('img_code.jpg', 'wb') as f:\n",
    "            f.write(image_base64)\n",
    "\n",
    "        # Load the image using the Image() function\n",
    "        image = Image(filename='img_code.jpg')\n",
    "\n",
    "        # extract information using image model\n",
    "        response = image_model.generate_content([contents_filter, image])\n",
    "        print(response.text)\n",
    "    else:\n",
    "        # If --in<number> pattern is not found, print an error message\n",
    "        print('Please provide a correct code block reference.')"
   ]
  },
  {
   "cell_type": "code",
   "execution_count": 16,
   "metadata": {},
   "outputs": [
    {
     "data": {
      "image/png": "[encoded data removed]",
      "text/plain": [
       "<Figure size 400x200 with 1 Axes>"
      ]
     },
     "metadata": {},
     "output_type": "display_data"
    }
   ],
   "source": [
    "import matplotlib.pyplot as plt\n",
    "import numpy as np\n",
    "# Set a seed for reproducibility\n",
    "np.random.seed(42)\n",
    "\n",
    "# Generate random data with outliers\n",
    "data = np.random.normal(loc=5, scale=2, size=50)\n",
    "outliers = np.random.normal(loc=20, scale=5, size=5)\n",
    "data_with_outliers = np.concatenate((data, outliers))\n",
    "\n",
    "# Create an index for each data point\n",
    "indices = np.arange(len(data_with_outliers))\n",
    "\n",
    "# Increase the width of the graph\n",
    "plt.figure(figsize=(4, 2))\n",
    "\n",
    "# Plot the random graph with outliers\n",
    "plt.scatter(indices, data_with_outliers, label='Data with Outliers', s=5)  # Increase the size of the points\n",
    "\n",
    "# Highlight the outliers with a different color\n",
    "plt.scatter(indices[-5:], outliers, color='red', label='Outliers', s=10)  # Increase the size of the points\n",
    "\n",
    "# Remove labels on x-axis and y-axis\n",
    "plt.xticks([])\n",
    "plt.yticks([])\n",
    "\n",
    "# Remove the title of the graph\n",
    "plt.title('')\n",
    "\n",
    "# Increase the size of the legends\n",
    "plt.legend(prop={'size': 10})\n",
    "\n",
    "plt.show()"
   ]
  },
  {
   "cell_type": "code",
   "execution_count": 19,
   "metadata": {},
   "outputs": [
    {
     "name": "stdout",
     "output_type": "stream",
     "text": [
      " There are five outliers.\n"
     ]
    }
   ],
   "source": [
    "# Running Chat with Image Feature\n",
    "%graph --in16 how many outliers are there"
   ]
  },
  {
   "cell_type": "markdown",
   "metadata": {},
   "source": [
    "Chat with Files Feature"
   ]
  },
  {
   "cell_type": "code",
   "execution_count": 20,
   "metadata": {},
   "outputs": [],
   "source": [
    "# Register a custom magic command for IPython\n",
    "@register_line_magic\n",
    "def chatf(contents):\n",
    "    try:\n",
    "        # Parse the folder name from the provided argument\n",
    "        folder_match = re.search(r'--folder_name=(\\S+)', contents)\n",
    "        if not folder_match:\n",
    "            # Print an error message if folder name is not provided in the correct format\n",
    "            print(\"Please provide a valid folder name using the format '--folder_name=<folder_name>'.\")\n",
    "            return\n",
    "\n",
    "        # Extract the folder name from the regex match\n",
    "        folder_name = folder_match.group(1)\n",
    "\n",
    "        # Get a list of Python files in the specified folder\n",
    "        python_files = [file for file in os.listdir(folder_name) if file.endswith('.py')]\n",
    "\n",
    "        # Check if any Python files were found\n",
    "        if not python_files:\n",
    "            print(f\"No Python files found in the folder '{folder_name}'.\")\n",
    "            return\n",
    "\n",
    "        # Initialize an empty string to store combined content\n",
    "        combined_content = \"\"\n",
    "\n",
    "        # Iterate through each Python file in the folder\n",
    "        for file_name in python_files:\n",
    "            with open(os.path.join(folder_name, file_name), 'r') as file:\n",
    "                # Read the content of the file\n",
    "                file_content = file.read()\n",
    "\n",
    "                # Format the combined content with file name and its code\n",
    "                combined_content += f\"\\nfile: {file_name}\\n{file_content}\\n{'_'*15}\\n\"\n",
    "\n",
    "        # Remove the pattern of folder from the input contents\n",
    "        contents_filter = re.sub(r'--folder_name=\\S+', '', contents)\n",
    "\n",
    "        # Generate content using a model and display the response\n",
    "        response = text_model.generate_content(f'''\n",
    "                                        {combined_content}\n",
    "                                        Answer the question in a short readable paragraph, don't provide the answer in any format or code\n",
    "                                        {contents_filter}\n",
    "                                        ''').text\n",
    "        print(response)\n",
    "\n",
    "    except Exception as e:\n",
    "        # Print an error message if an exception occurs\n",
    "        print(f'An error occurred: {str(e)}')"
   ]
  },
  {
   "cell_type": "code",
   "execution_count": 21,
   "metadata": {},
   "outputs": [
    {
     "name": "stdout",
     "output_type": "stream",
     "text": [
      "To clean and format data, you can use the `data_preprocessing()` function from `codefile_A.py`. This function removes all spaces from the input data, making it easier to work with. Once the data is cleaned, you can use the `adding_numbers()` function from `codefile_B.py` to add two numbers together.\n"
     ]
    }
   ],
   "source": [
    "# Running chat with files Feature\n",
    "%chatf --folder_name=myfolder How to clean and format data"
   ]
  },
  {
   "cell_type": "markdown",
   "metadata": {},
   "source": [
    "Compiling the Features and using it"
   ]
  },
  {
   "cell_type": "code",
   "execution_count": null,
   "metadata": {},
   "outputs": [],
   "source": [
    "# Importing all features of your copilot\n",
    "from my_copilot import *\n",
    "\n",
    "# using generate code feature\n",
    "%code load my data.csv file using pandas"
   ]
  }
 ],
 "metadata": {
  "kernelspec": {
   "display_name": ".venv-github-copilot-free",
   "language": "python",
   "name": "python3"
  },
  "language_info": {
   "codemirror_mode": {
    "name": "ipython",
    "version": 3
   },
   "file_extension": ".py",
   "mimetype": "text/x-python",
   "name": "python",
   "nbconvert_exporter": "python",
   "pygments_lexer": "ipython3",
   "version": "3.9.0"
  }
 },
 "nbformat": 4,
 "nbformat_minor": 2
}
